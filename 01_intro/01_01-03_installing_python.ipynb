{
 "cells": [
  {
   "cell_type": "markdown",
   "id": "mineral-hierarchy",
   "metadata": {},
   "source": [
    "# Installing Python"
   ]
  },
  {
   "cell_type": "markdown",
   "id": "exempt-naples",
   "metadata": {},
   "source": [
    "The most challenging thing about working with Python (or any programming language) is learning how to install it correctly. Why is this such a challenge? Because installing Python differs dramatically by operating system and version of operating system. I present to you five different ways you can start programming Python from the easiest to the more challenging.\n",
    "\n",
    "1. Using the Trinket applications embedded throughout this textbook.\n",
    "2. Using Google Colab for each each individual section of the textbook\n",
    "2. Using the free built-in Binder feature of this textbook\n",
    "3. Using a free online Jupyter Notebook\n",
    "4. Installing Python locally via Anaconda Navigator and using Jupyter-Lab\n",
    "\n",
    "If you are entirely new to programming, I recommend ignoring options 2-4 and simply using option 1 during the first part of this textbook. In my experience, it is important early in your programming journey to have as few roadblocks as possible. If you are interested in jumping in with Python as quickly as possible, then use the freely available Trinket widgets in the online version of this textbook and return to the installation of Python at a later time."
   ]
  },
  {
   "cell_type": "markdown",
   "id": "23232476-67a0-4548-827f-3b82a0ecab49",
   "metadata": {},
   "source": [
    "## Trinket\n",
    "\n",
    "Throughout this textbook, you will see [Trinket](https://trinket.io/) applications embedded within each page. Trinket allows you to practice your coding skills without ever installing Python. If you are new to coding and want to get started immediately without installing Python, I recommend working with Trinket inside the digital version of this textbook.\n",
    "\n",
    "These will allow for you to practice the lesson right inside the digital textbook. The Trinket applications look like this:"
   ]
  },
  {
   "cell_type": "code",
   "execution_count": 1,
   "id": "62d343b5-282b-443f-a80f-874784d8a152",
   "metadata": {
    "tags": [
     "hide-tag"
    ]
   },
   "outputs": [
    {
     "data": {
      "text/html": [
       "\n",
       "        <iframe\n",
       "            width=\"700\"\n",
       "            height=\"500\"\n",
       "            src=\"https://trinket.io/embed/python3/3fe4c8f3f4\"\n",
       "            frameborder=\"0\"\n",
       "            allowfullscreen\n",
       "            \n",
       "        ></iframe>\n",
       "        "
      ],
      "text/plain": [
       "<IPython.lib.display.IFrame at 0x1b98c90e970>"
      ]
     },
     "execution_count": 1,
     "metadata": {},
     "output_type": "execute_result"
    }
   ],
   "source": [
    "from IPython.display import IFrame\n",
    "IFrame('https://trinket.io/embed/python3/3fe4c8f3f4', 700, 500)"
   ]
  },
  {
   "cell_type": "markdown",
   "id": "aedad649-bb4d-4089-a54d-bdad1764545b",
   "metadata": {},
   "source": [
    "You will be able to write your code inside this Trinket application and then click the play button at the top. This will execute your code and populate the results on the right hand output."
   ]
  },
  {
   "cell_type": "markdown",
   "id": "08e17c33-7ee3-421a-bbc7-418962987835",
   "metadata": {},
   "source": [
    "## Using Google Colab"
   ]
  },
  {
   "cell_type": "markdown",
   "id": "4faccb9a-b245-436c-9386-41ca2b24c176",
   "metadata": {},
   "source": [
    "During the first part of the textbook, nearly all code can be executed with Trinket. Even the section on Pandas can be done inside of Trinket. However, the later sections will be increasingly difficult as they require libraries that are not supported by Trinket. At this time, you will want to consider another option. Again, to delay the installation of Python on your machine, we can rely on other cloud-based alternatives.\n",
    "\n",
    "There are two options for running this textbook's code in the cloud outside of the textbook: Google Colab and Binder (addressed below). In the top right corner of each page is a rocket ship. If you hold your mouse over this rocket ship, you will have two options to choose from, Binder or Colab. Click `Colab`.\n",
    "\n",
    "```{figure} ../images/rocket_ship.png\n",
    "Picture of Rocket Ship in Top-Right corner of online JupyterBook.\n",
    "```"
   ]
  },
  {
   "cell_type": "markdown",
   "id": "3ff7006f-5b54-4619-818b-2e0c55b49583",
   "metadata": {},
   "source": [
    "Once you click the `Colab` button you will be taken to Google Colab and see a Notebook inside the Google Colab system that should look like this:\n",
    "\n",
    "```{figure} ../images/google_colab.png\n",
    "---\n",
    "height: 300px\n",
    "---\n",
    "Demo of Google Colab Opened\n",
    "```\n",
    "\n",
    "Once here, you can run the notebook.\n",
    "\n",
    "Colab and Binder have their advantages. Google Colab will be far quicker but will require you to install the requisite libraries for each page. For most of the first part of the textbook, this will not be necessary as we will not be working with libraries. You will learn how to install libraries locally and in a Jupyter Notebook (like those used on Google Colab) later in this part of the textbook. Once the libraries are installed, the entire notebook can be run as if you were running the notebook locally. A downside to Google Colab is its inability to leverage the data found within this textbook. This means that in some cases, you will need to manually upload the data into Google Colab for some notebooks to run as expected.\n",
    "\n",
    "Another benefit of Google Colab is that it is connected to your Google account. This means any changes that you make to the notebook can be saved onto your Google Drive and used at a later date. Each time you open the notebook, however, a unique instance of Python is created which means you will need to reinstall your libraries. Fortunately, this process is quite quick."
   ]
  },
  {
   "cell_type": "markdown",
   "id": "golden-round",
   "metadata": {},
   "source": [
    "## Using Binder from this JupyterBook"
   ]
  },
  {
   "cell_type": "markdown",
   "id": "disabled-title",
   "metadata": {},
   "source": [
    "Another cloud-based solution is with Binder. Unlike Google Colab, Binder will load up an environment for the entire textbook and install all libraries using the `requirements.txt` file found in this textbook's repository on GitHub. This means that Binder will take substantially longer to load, but will contain the entire textbook. It will save the instance for a period of time as well so that if you return to the same link in a short period of time, there is a chance it will not have to reinstall all the libraries again. In my experience, Binder can run into some issues that can be difficult to diagnose, especially if you are new to programming. For this reason, I would recommend Google Colab over Binder to new programmers.\n",
    "\n",
    "As with Google Colab, to begin, put your mouse over the rocket ship icon in the top-left portion of the page."
   ]
  },
  {
   "cell_type": "markdown",
   "id": "tight-acoustic",
   "metadata": {},
   "source": [
    "```{figure} ../images/install/binder_rocket.JPG\n",
    "Demonstration of Rocket Ship in Top-Right Corner\n",
    "```"
   ]
  },
  {
   "cell_type": "markdown",
   "id": "patent-contributor",
   "metadata": {},
   "source": [
    "A button that says binder should emerge that says \"Binder\". Click it."
   ]
  },
  {
   "cell_type": "markdown",
   "id": "considerable-assault",
   "metadata": {},
   "source": [
    "```{figure} ../images/install/binder_button.JPG\n",
    "Selecting the Binder Button.\n",
    "```"
   ]
  },
  {
   "cell_type": "markdown",
   "id": "portable-penny",
   "metadata": {},
   "source": [
    "At this stage, your screen should look like this:\n",
    "\n",
    "```{image} ../images/install/binder_build.JPG\n",
    "Binder Build Screen\n",
    "```\n",
    "\n",
    "If it does, then sit back and relax. It may take a few minutes as binder builds the environment. Once Binder is finished, click on File in the top left corner of the screen and then select New Notebook.\n",
    "\n",
    "```{figure} ../images/install/binder_new_notebook.JPG\n",
    "Creating a New Notebook in Binder.\n",
    "```"
   ]
  },
  {
   "cell_type": "markdown",
   "id": "lonely-missile",
   "metadata": {},
   "source": [
    "After this, select Python 3 (ipykernal). This will open a fresh, new notebook."
   ]
  },
  {
   "cell_type": "markdown",
   "id": "personal-institute",
   "metadata": {},
   "source": [
    "```{figure} ../images/install/binder_new_notebook_click.JPG\n",
    "Selecting the Python 3 Kernal for the New Notebook.\n",
    "```"
   ]
  },
  {
   "cell_type": "markdown",
   "id": "popular-niger",
   "metadata": {},
   "source": [
    "Now you should have a new notebook that looks like this:"
   ]
  },
  {
   "cell_type": "markdown",
   "id": "relevant-sound",
   "metadata": {},
   "source": [
    "```{figure} ../images/install/binder_new_notebook_page.JPG\n",
    "Example of a New Notebook Page.\n",
    "```"
   ]
  },
  {
   "cell_type": "markdown",
   "id": "multiple-supplement",
   "metadata": {},
   "source": [
    "And now, you can fully follow along with this textbook."
   ]
  },
  {
   "cell_type": "markdown",
   "id": "white-acrobat",
   "metadata": {},
   "source": [
    "## Using Jupyter Notebooks Online"
   ]
  },
  {
   "cell_type": "markdown",
   "id": "pacific-cycle",
   "metadata": {},
   "source": [
    "If you want to be a bit more independent and learn how to code in Python online without Binder and this textbook, you can! You do not need to download and install Python on your local computer either. Instead, you can use free online compilers that allow you follow along with nearly all of this textbook without issue.\n",
    "\n",
    "If this is your view at the moment, then click the link this link: https://jupyter.org/try\n",
    "\n",
    "Once on the page click the picture that says Jupyter Notebook"
   ]
  },
  {
   "cell_type": "markdown",
   "id": "southwest-education",
   "metadata": {},
   "source": [
    "```{figure} ../images/install/jupyter_org.JPG\n",
    "Creating a Jupyter Notebook Online.\n",
    "```"
   ]
  },
  {
   "cell_type": "markdown",
   "id": "cordless-burlington",
   "metadata": {},
   "source": [
    "After that, you will see a screen that looks like this:"
   ]
  },
  {
   "cell_type": "markdown",
   "id": "liberal-wrestling",
   "metadata": {},
   "source": [
    "```{figure} ../images/install/jupyter_org_binder.JPG\n",
    "Binder Creating a New Environment for the Notebook.\n",
    "```"
   ]
  },
  {
   "cell_type": "markdown",
   "id": "light-parallel",
   "metadata": {},
   "source": [
    "After a few minutes, the environment will load and you should see a notebook. Click File in the top left corner, New Notebook, and Select Python 3."
   ]
  },
  {
   "cell_type": "markdown",
   "id": "armed-lexington",
   "metadata": {},
   "source": [
    "```{figure} ../images/install/jupyter_org_new.JPG\n",
    "Creating a New Notebook.\n",
    "```"
   ]
  },
  {
   "cell_type": "markdown",
   "id": "expanded-possession",
   "metadata": {},
   "source": [
    "Once loaded, you can following along with this textbook in this new notebook."
   ]
  },
  {
   "cell_type": "markdown",
   "id": "fancy-former",
   "metadata": {},
   "source": [
    "```{figure} ../images/install/jupyter_org_new_page.JPG\n",
    "Example of a New Notebook.\n",
    "```"
   ]
  },
  {
   "cell_type": "markdown",
   "id": "protecting-decimal",
   "metadata": {},
   "source": [
    "## Installing Python Locally"
   ]
  },
  {
   "cell_type": "markdown",
   "id": "baking-ceiling",
   "metadata": {},
   "source": [
    "If you wish to install Python locally and it is your first time, there are many problems that can surface. For this reason, I am now recommending all students install via Anaconda Navigator. It adds extra steps into the installation process, but it eliminates the potential for mistakes to occur.\n",
    "\n",
    "Anaconda Navigator is a user-friendly interface that handles the installation process for you. It also allows for you to create environments, which are small areas on your computer that have a unique version of Python and libraries installed. We will learn more about this in Part 06 when we explore libraries.\n",
    "\n",
    "In this chapter, I will walk you through the steps of installing Anaconda Navigator on your machine, regardless of operating system.\n",
    "\n",
    "When we write code in Python, we do so a few different ways, depending on that code's use. Because this is a textbook and the code I am writing is for presentation purposes, I am using a Jupyter Notebook. Other times, you may write a program in an IDE, or an Integrated Development Environment. Some of these include PyCharm, Atom, etc. In other cases, you will use Python in the terminal to perform quick tasks on data in a directory.\n",
    "\n",
    "Anaconda Navigator removes the need for you to learn how to do all of this because it allows for you to easily install Jupyter-Lab which functions like an IDE but is a bit more forgiving. In addition, you can call terminal sessions. I know these terms do not make sense right now, but as your understanding of programming expands, this paragraph will make more sense. For now, simply understand that Anaconda Navigator and Jupyter-Lab (both of which we install in this chapter), make your start to learning to code much, much simpler."
   ]
  },
  {
   "cell_type": "markdown",
   "id": "according-smile",
   "metadata": {},
   "source": [
    "### Download Anaconda Navigator"
   ]
  },
  {
   "cell_type": "markdown",
   "id": "90d482fe-1ca8-49b1-ada3-ba0fa4521089",
   "metadata": {},
   "source": [
    "In order to download Anaconda Navigator go to this link here: https://www.anaconda.com/. Next, hover over Products and select Individual Edition, as seen in the image below."
   ]
  },
  {
   "cell_type": "markdown",
   "id": "269e3a05-aae9-4a63-ad16-50e90ffa1f60",
   "metadata": {},
   "source": [
    "```{figure} ../images/install/anaconda_navigator1.JPG\n",
    "Anaconda's Homepage.\n",
    "```"
   ]
  },
  {
   "cell_type": "markdown",
   "id": "3093250a-b78b-48ad-b298-6623206218d5",
   "metadata": {},
   "source": [
    "Now, click on the Download button as seen in the image below and walk through the installation process on your computer. Once complete, you will have Anaconda Navigator installed."
   ]
  },
  {
   "cell_type": "markdown",
   "id": "561a2522-2b5e-42eb-9cf6-eb2afefcb12c",
   "metadata": {},
   "source": [
    "```{figure} ../images/install/anaconda_navigator2.JPG\n",
    "Download Individual Edition.\n",
    "```"
   ]
  },
  {
   "cell_type": "markdown",
   "id": "juvenile-stations",
   "metadata": {},
   "source": [
    "### Using Anaconda Navigator"
   ]
  },
  {
   "cell_type": "markdown",
   "id": "rapid-seattle",
   "metadata": {},
   "source": [
    "Now that Anaconda Navigator is installed, you can use it by opening it up on your computer. When you first see Anaconda Navigator, you will see several options on the left. In environments, you will only see one environment: base. Don't worry about environments this early in your Python career. For now, we will simply click the Home button on the left."
   ]
  },
  {
   "cell_type": "markdown",
   "id": "5abcd440-3c73-4058-b886-ed60d8e6721f",
   "metadata": {},
   "source": [
    "```{figure} ../images/install/anaconda_navigator3.JPG\n",
    "The Anaconda Navigator Main User Interface.\n",
    "```"
   ]
  },
  {
   "cell_type": "markdown",
   "id": "comprehensive-restaurant",
   "metadata": {},
   "source": [
    "### Installing Jupyter-Lab"
   ]
  },
  {
   "cell_type": "markdown",
   "id": "09d23d57-a19e-47e5-8e18-c9bb18b32688",
   "metadata": {},
   "source": [
    "In order to start using Python, there are a few different options available to you. You could use a terminal and following along with the textbook, but that can be quite difficult if you are just starting out. Since this textbook was designed in JupyterLab, I think it makes the most sense to install that software. Go ahead and click Install under JupyterLab. Once installed, you will be able to Launch it and follow along with the textbook.\n",
    "\n",
    "```{figure} ../images/install/anaconda_navigator4.JPG\n",
    "How to Install Jupyter Lab.\n",
    "```"
   ]
  },
  {
   "cell_type": "markdown",
   "id": "0c21cc20-2483-4a46-9c52-a34a0f4831ba",
   "metadata": {},
   "source": [
    "## Conclusion"
   ]
  },
  {
   "cell_type": "markdown",
   "id": "a1b82792-396d-463b-8fb2-fc456b3d1d8f",
   "metadata": {},
   "source": [
    "If at any point in the installation process you get frustrated, do not get discouraged. You are not alone and it is not a simple or easy process. Those who have been programming for years can make these steps look simple, but troubleshooting issues on your own is challenging. It is important to remember that programming in general is challenging. Try to view the challenges that surface as a fun problems that need solving. Try to look at your mistakes through a lens of Bob Ross and view them as `happy accidents`."
   ]
  },
  {
   "cell_type": "code",
   "execution_count": null,
   "id": "82a255b4-2131-4004-82ce-53b93ff22c42",
   "metadata": {},
   "outputs": [],
   "source": []
  }
 ],
 "metadata": {
  "kernelspec": {
   "display_name": "Python 3 (ipykernel)",
   "language": "python",
   "name": "python3"
  },
  "language_info": {
   "codemirror_mode": {
    "name": "ipython",
    "version": 3
   },
   "file_extension": ".py",
   "mimetype": "text/x-python",
   "name": "python",
   "nbconvert_exporter": "python",
   "pygments_lexer": "ipython3",
   "version": "3.8.5"
  }
 },
 "nbformat": 4,
 "nbformat_minor": 5
}
